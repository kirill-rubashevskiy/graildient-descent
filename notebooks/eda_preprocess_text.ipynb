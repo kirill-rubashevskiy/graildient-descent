{
 "cells": [
  {
   "metadata": {},
   "cell_type": "markdown",
   "source": "# Text Feature Preprocessing for EDA",
   "id": "d59accc9aaf4cca4"
  },
  {
   "metadata": {
    "ExecuteTime": {
     "end_time": "2024-09-05T17:43:27.457148Z",
     "start_time": "2024-09-05T17:43:25.555113Z"
    }
   },
   "cell_type": "code",
   "source": [
    "# Import necessary libraries\n",
    "import nltk\n",
    "import numpy as np\n",
    "import pandas as pd\n",
    "from nltk.corpus import stopwords\n",
    "from nltk.sentiment.vader import SentimentIntensityAnalyzer\n",
    "from nltk.stem import WordNetLemmatizer\n",
    "from nltk.tokenize import word_tokenize\n",
    "from nltk.util import ngrams"
   ],
   "id": "dd048e83dd53de6b",
   "outputs": [],
   "execution_count": 1
  },
  {
   "metadata": {
    "ExecuteTime": {
     "end_time": "2024-09-05T17:43:27.897181Z",
     "start_time": "2024-09-05T17:43:27.458469Z"
    }
   },
   "cell_type": "code",
   "source": [
    "# Download necessary NLTK resources\n",
    "nltk.download(\"stopwords\", quiet=True)\n",
    "nltk.download(\"vader_lexicon\", quiet=True)\n",
    "nltk.download(\"wordnet\", quiet=True)"
   ],
   "id": "19e37cd810dc6c03",
   "outputs": [
    {
     "data": {
      "text/plain": [
       "True"
      ]
     },
     "execution_count": 2,
     "metadata": {},
     "output_type": "execute_result"
    }
   ],
   "execution_count": 2
  },
  {
   "metadata": {
    "ExecuteTime": {
     "end_time": "2024-09-05T17:43:27.900643Z",
     "start_time": "2024-09-05T17:43:27.898155Z"
    }
   },
   "cell_type": "code",
   "source": [
    "# Define the text columns to load them and the target variable\n",
    "text_cols = [\"item_name\", \"description\", \"hashtags\"]\n",
    "stats = [\"char_count\", \"word_count\", \"avg_word_length\"]\n",
    "n_grams = [\"unigrams\", \"bigrams\", \"trigrams\"]"
   ],
   "id": "46d9124bbf8dcda2",
   "outputs": [],
   "execution_count": 3
  },
  {
   "metadata": {
    "ExecuteTime": {
     "end_time": "2024-09-05T17:43:27.983161Z",
     "start_time": "2024-09-05T17:43:27.902401Z"
    }
   },
   "cell_type": "code",
   "source": [
    "# Load the data with specified columns and a limit of 10,000 rows\n",
    "df = pd.read_csv(\n",
    "    \"../data/raw/sold_listings.csv\", nrows=10000, usecols=text_cols + [\"sold_price\"]\n",
    ")"
   ],
   "id": "7acaa55702f25148",
   "outputs": [],
   "execution_count": 4
  },
  {
   "metadata": {
    "ExecuteTime": {
     "end_time": "2024-09-05T17:43:27.990008Z",
     "start_time": "2024-09-05T17:43:27.984106Z"
    }
   },
   "cell_type": "code",
   "source": [
    "# Replace missing values in the 'hashtags' column with an empty string\n",
    "df.replace({\"hashtags\": {\"missing\": \"\"}}, inplace=True)"
   ],
   "id": "b55aa0ecf43563c4",
   "outputs": [],
   "execution_count": 5
  },
  {
   "metadata": {
    "ExecuteTime": {
     "end_time": "2024-09-05T17:43:27.994670Z",
     "start_time": "2024-09-05T17:43:27.991048Z"
    }
   },
   "cell_type": "code",
   "source": [
    "# Calculate the quantiles for the target variable (sold_price) to filter for analysis later\n",
    "q_low, q_high = df[\"sold_price\"].quantile([0.25, 0.75])"
   ],
   "id": "149438267b1423b8",
   "outputs": [],
   "execution_count": 6
  },
  {
   "metadata": {
    "ExecuteTime": {
     "end_time": "2024-09-05T17:43:28.004885Z",
     "start_time": "2024-09-05T17:43:27.995666Z"
    }
   },
   "cell_type": "code",
   "source": [
    "# Reshape the data using melt to combine text columns into a single column (for visualization purposes)\n",
    "df_long = df.melt(\n",
    "    value_vars=text_cols,\n",
    "    id_vars=[\"sold_price\"],\n",
    "    var_name=\"text_feature\",\n",
    "    value_name=\"text\",\n",
    ")"
   ],
   "id": "d02b05d0d6306d97",
   "outputs": [],
   "execution_count": 7
  },
  {
   "metadata": {},
   "cell_type": "markdown",
   "source": "## Text Statistics",
   "id": "9df8f1904321dca5"
  },
  {
   "metadata": {
    "ExecuteTime": {
     "end_time": "2024-09-05T17:43:28.014010Z",
     "start_time": "2024-09-05T17:43:28.005816Z"
    }
   },
   "cell_type": "code",
   "source": [
    "# Function to calculate average word length\n",
    "\n",
    "\n",
    "def avg_word_length(text):\n",
    "    words = text.split()\n",
    "    if len(words) > 0:\n",
    "        return np.mean([len(word) for word in words])\n",
    "    return 0"
   ],
   "id": "6af6d66916ecc4cd",
   "outputs": [],
   "execution_count": 8
  },
  {
   "metadata": {
    "ExecuteTime": {
     "end_time": "2024-09-05T17:43:28.022192Z",
     "start_time": "2024-09-05T17:43:28.015018Z"
    }
   },
   "cell_type": "code",
   "source": [
    "# Create a new DataFrame to store text statistics for each text feature\n",
    "df_stats = df_long[[\"text_feature\", \"sold_price\"]]"
   ],
   "id": "1c6b65997d21bf37",
   "outputs": [],
   "execution_count": 9
  },
  {
   "metadata": {
    "ExecuteTime": {
     "end_time": "2024-09-05T17:43:28.441730Z",
     "start_time": "2024-09-05T17:43:28.029085Z"
    }
   },
   "cell_type": "code",
   "source": [
    "# Calculate character count, word count, and average word length for each row\n",
    "df_stats[\"char_count\"] = df_long[\"text\"].apply(len)\n",
    "df_stats[\"word_count\"] = df_long[\"text\"].apply(str.split).apply(len)\n",
    "df_stats[\"avg_word_length\"] = df_long[\"text\"].apply(avg_word_length)"
   ],
   "id": "2376a44e95b1782c",
   "outputs": [],
   "execution_count": 10
  },
  {
   "metadata": {
    "ExecuteTime": {
     "end_time": "2024-09-05T17:43:28.449873Z",
     "start_time": "2024-09-05T17:43:28.442489Z"
    }
   },
   "cell_type": "code",
   "source": [
    "# View the first few rows of text statistics\n",
    "df_stats.head()"
   ],
   "id": "73095dfc9c149532",
   "outputs": [
    {
     "data": {
      "text/plain": [
       "  text_feature  sold_price  char_count  word_count  avg_word_length\n",
       "0    item_name          60          42           5         7.600000\n",
       "1    item_name         327          45           8         4.750000\n",
       "2    item_name         135          29           5         5.000000\n",
       "3    item_name          56          59           9         5.666667\n",
       "4    item_name          60          30           5         5.200000"
      ],
      "text/html": [
       "<div>\n",
       "<style scoped>\n",
       "    .dataframe tbody tr th:only-of-type {\n",
       "        vertical-align: middle;\n",
       "    }\n",
       "\n",
       "    .dataframe tbody tr th {\n",
       "        vertical-align: top;\n",
       "    }\n",
       "\n",
       "    .dataframe thead th {\n",
       "        text-align: right;\n",
       "    }\n",
       "</style>\n",
       "<table border=\"1\" class=\"dataframe\">\n",
       "  <thead>\n",
       "    <tr style=\"text-align: right;\">\n",
       "      <th></th>\n",
       "      <th>text_feature</th>\n",
       "      <th>sold_price</th>\n",
       "      <th>char_count</th>\n",
       "      <th>word_count</th>\n",
       "      <th>avg_word_length</th>\n",
       "    </tr>\n",
       "  </thead>\n",
       "  <tbody>\n",
       "    <tr>\n",
       "      <th>0</th>\n",
       "      <td>item_name</td>\n",
       "      <td>60</td>\n",
       "      <td>42</td>\n",
       "      <td>5</td>\n",
       "      <td>7.600000</td>\n",
       "    </tr>\n",
       "    <tr>\n",
       "      <th>1</th>\n",
       "      <td>item_name</td>\n",
       "      <td>327</td>\n",
       "      <td>45</td>\n",
       "      <td>8</td>\n",
       "      <td>4.750000</td>\n",
       "    </tr>\n",
       "    <tr>\n",
       "      <th>2</th>\n",
       "      <td>item_name</td>\n",
       "      <td>135</td>\n",
       "      <td>29</td>\n",
       "      <td>5</td>\n",
       "      <td>5.000000</td>\n",
       "    </tr>\n",
       "    <tr>\n",
       "      <th>3</th>\n",
       "      <td>item_name</td>\n",
       "      <td>56</td>\n",
       "      <td>59</td>\n",
       "      <td>9</td>\n",
       "      <td>5.666667</td>\n",
       "    </tr>\n",
       "    <tr>\n",
       "      <th>4</th>\n",
       "      <td>item_name</td>\n",
       "      <td>60</td>\n",
       "      <td>30</td>\n",
       "      <td>5</td>\n",
       "      <td>5.200000</td>\n",
       "    </tr>\n",
       "  </tbody>\n",
       "</table>\n",
       "</div>"
      ]
     },
     "execution_count": 11,
     "metadata": {},
     "output_type": "execute_result"
    }
   ],
   "execution_count": 11
  },
  {
   "metadata": {
    "ExecuteTime": {
     "end_time": "2024-09-05T17:43:28.464004Z",
     "start_time": "2024-09-05T17:43:28.450838Z"
    }
   },
   "cell_type": "code",
   "source": [
    "# Reshape text statistics data for easier visualization\n",
    "df_stats_long = df_stats.melt(\n",
    "    value_vars=stats, id_vars=[\"text_feature\", \"sold_price\"], var_name=\"stat\"\n",
    ")"
   ],
   "id": "94104339c3508712",
   "outputs": [],
   "execution_count": 12
  },
  {
   "metadata": {
    "ExecuteTime": {
     "end_time": "2024-09-05T17:43:28.470089Z",
     "start_time": "2024-09-05T17:43:28.464978Z"
    }
   },
   "cell_type": "code",
   "source": [
    "# View the reshaped text statistics\n",
    "df_stats_long.head()"
   ],
   "id": "f34c8b69a61faa6",
   "outputs": [
    {
     "data": {
      "text/plain": [
       "  text_feature  sold_price        stat  value\n",
       "0    item_name          60  char_count   42.0\n",
       "1    item_name         327  char_count   45.0\n",
       "2    item_name         135  char_count   29.0\n",
       "3    item_name          56  char_count   59.0\n",
       "4    item_name          60  char_count   30.0"
      ],
      "text/html": [
       "<div>\n",
       "<style scoped>\n",
       "    .dataframe tbody tr th:only-of-type {\n",
       "        vertical-align: middle;\n",
       "    }\n",
       "\n",
       "    .dataframe tbody tr th {\n",
       "        vertical-align: top;\n",
       "    }\n",
       "\n",
       "    .dataframe thead th {\n",
       "        text-align: right;\n",
       "    }\n",
       "</style>\n",
       "<table border=\"1\" class=\"dataframe\">\n",
       "  <thead>\n",
       "    <tr style=\"text-align: right;\">\n",
       "      <th></th>\n",
       "      <th>text_feature</th>\n",
       "      <th>sold_price</th>\n",
       "      <th>stat</th>\n",
       "      <th>value</th>\n",
       "    </tr>\n",
       "  </thead>\n",
       "  <tbody>\n",
       "    <tr>\n",
       "      <th>0</th>\n",
       "      <td>item_name</td>\n",
       "      <td>60</td>\n",
       "      <td>char_count</td>\n",
       "      <td>42.0</td>\n",
       "    </tr>\n",
       "    <tr>\n",
       "      <th>1</th>\n",
       "      <td>item_name</td>\n",
       "      <td>327</td>\n",
       "      <td>char_count</td>\n",
       "      <td>45.0</td>\n",
       "    </tr>\n",
       "    <tr>\n",
       "      <th>2</th>\n",
       "      <td>item_name</td>\n",
       "      <td>135</td>\n",
       "      <td>char_count</td>\n",
       "      <td>29.0</td>\n",
       "    </tr>\n",
       "    <tr>\n",
       "      <th>3</th>\n",
       "      <td>item_name</td>\n",
       "      <td>56</td>\n",
       "      <td>char_count</td>\n",
       "      <td>59.0</td>\n",
       "    </tr>\n",
       "    <tr>\n",
       "      <th>4</th>\n",
       "      <td>item_name</td>\n",
       "      <td>60</td>\n",
       "      <td>char_count</td>\n",
       "      <td>30.0</td>\n",
       "    </tr>\n",
       "  </tbody>\n",
       "</table>\n",
       "</div>"
      ]
     },
     "execution_count": 13,
     "metadata": {},
     "output_type": "execute_result"
    }
   ],
   "execution_count": 13
  },
  {
   "metadata": {
    "ExecuteTime": {
     "end_time": "2024-09-05T17:43:28.624836Z",
     "start_time": "2024-09-05T17:43:28.470935Z"
    }
   },
   "cell_type": "code",
   "source": [
    "# Save the preprocessed text statistics to a CSV file\n",
    "df_stats_long.to_csv(\n",
    "    \"../data/preprocessed/preprocessed_text_stats_10k.csv\", index=False\n",
    ")"
   ],
   "id": "fc54962eed0a1c2f",
   "outputs": [],
   "execution_count": 14
  },
  {
   "metadata": {},
   "cell_type": "markdown",
   "source": "## N-grams",
   "id": "e7a3e32524c7321f"
  },
  {
   "metadata": {},
   "cell_type": "markdown",
   "source": [
    "Before extracting n-grams, we preprocess the text features using the `preprocess_text` function, which performs the following steps:\n",
    "- Converts text to lowercase\n",
    "- Lemmatizes words\n",
    "- Removes stop words"
   ],
   "id": "3030a2c9ec6c24d9"
  },
  {
   "metadata": {
    "ExecuteTime": {
     "end_time": "2024-09-05T17:43:28.631133Z",
     "start_time": "2024-09-05T17:43:28.625717Z"
    }
   },
   "cell_type": "code",
   "source": [
    "# Function for preprocessing: tokenization, lemmatization, and stopword removal\n",
    "lemmatizer = WordNetLemmatizer()\n",
    "stop_words = set(stopwords.words(\"english\"))\n",
    "\n",
    "\n",
    "def preprocess_text(text, placeholder=\"missing\"):\n",
    "    if not isinstance(text, str) or not text.strip():\n",
    "        return placeholder  # Return placeholder if the input is empty or non-string\n",
    "\n",
    "    # Tokenize, lemmatize, and remove stop words\n",
    "    words = word_tokenize(text.lower())\n",
    "    words = [\n",
    "        lemmatizer.lemmatize(word)\n",
    "        for word in words\n",
    "        if word.isalpha() and word not in stop_words\n",
    "    ]\n",
    "    processed_text = \" \".join(words)\n",
    "\n",
    "    return processed_text if processed_text else placeholder  # Ensure non-empty output"
   ],
   "id": "f0b2ca4c8486d205",
   "outputs": [],
   "execution_count": 15
  },
  {
   "metadata": {
    "ExecuteTime": {
     "end_time": "2024-09-05T17:43:36.889295Z",
     "start_time": "2024-09-05T17:43:28.632084Z"
    }
   },
   "cell_type": "code",
   "source": [
    "# Apply preprocessing to each text column\n",
    "df_long[\"cleaned_text\"] = df_long[\"text\"].apply(preprocess_text)"
   ],
   "id": "68f39fa13fa6b95a",
   "outputs": [],
   "execution_count": 16
  },
  {
   "metadata": {
    "ExecuteTime": {
     "end_time": "2024-09-05T17:43:36.894925Z",
     "start_time": "2024-09-05T17:43:36.890567Z"
    }
   },
   "cell_type": "code",
   "source": [
    "# Create a new DataFrame for n-grams\n",
    "df_ngrams = df_long[[\"text_feature\", \"sold_price\"]].copy()"
   ],
   "id": "3e3dc925d40143f",
   "outputs": [],
   "execution_count": 17
  },
  {
   "metadata": {
    "ExecuteTime": {
     "end_time": "2024-09-05T17:43:37.364037Z",
     "start_time": "2024-09-05T17:43:36.896083Z"
    }
   },
   "cell_type": "code",
   "source": [
    "# Extract unigrams, bigrams, and trigrams\n",
    "df_ngrams[\"unigrams\"] = df_long[\"cleaned_text\"].str.split()\n",
    "df_ngrams[\"bigrams\"] = df_ngrams[\"unigrams\"].apply(\n",
    "    lambda x: [\" \".join(ngram) for ngram in ngrams(x, 2)]\n",
    ")\n",
    "df_ngrams[\"trigrams\"] = df_ngrams[\"unigrams\"].apply(\n",
    "    lambda x: [\" \".join(ngram) for ngram in ngrams(x, 3)]\n",
    ")"
   ],
   "id": "ced08bf7f3c2b568",
   "outputs": [],
   "execution_count": 18
  },
  {
   "metadata": {
    "ExecuteTime": {
     "end_time": "2024-09-05T17:43:37.372097Z",
     "start_time": "2024-09-05T17:43:37.364932Z"
    }
   },
   "cell_type": "code",
   "source": [
    "# View the first few rows of n-grams\n",
    "df_ngrams.head()"
   ],
   "id": "874aea91bcfa0e65",
   "outputs": [
    {
     "data": {
      "text/plain": [
       "  text_feature  sold_price                                           unigrams  \\\n",
       "0    item_name          60   [dangerous, warning, ifsixwasnine, long, sleeve]   \n",
       "1    item_name         327   [black, rugged, twill, original, briefcase, new]   \n",
       "2    item_name         135                         [bape, wgm, garment, dyed]   \n",
       "3    item_name          56  [tommy, hilfiger, embroidery, logo, colour, bl...   \n",
       "4    item_name          60               [minted, new, york, runclub, hoodie]   \n",
       "\n",
       "                                             bigrams  \\\n",
       "0  [dangerous warning, warning ifsixwasnine, ifsi...   \n",
       "1  [black rugged, rugged twill, twill original, o...   \n",
       "2              [bape wgm, wgm garment, garment dyed]   \n",
       "3  [tommy hilfiger, hilfiger embroidery, embroide...   \n",
       "4  [minted new, new york, york runclub, runclub h...   \n",
       "\n",
       "                                            trigrams  \n",
       "0  [dangerous warning ifsixwasnine, warning ifsix...  \n",
       "1  [black rugged twill, rugged twill original, tw...  \n",
       "2               [bape wgm garment, wgm garment dyed]  \n",
       "3  [tommy hilfiger embroidery, hilfiger embroider...  \n",
       "4  [minted new york, new york runclub, york runcl...  "
      ],
      "text/html": [
       "<div>\n",
       "<style scoped>\n",
       "    .dataframe tbody tr th:only-of-type {\n",
       "        vertical-align: middle;\n",
       "    }\n",
       "\n",
       "    .dataframe tbody tr th {\n",
       "        vertical-align: top;\n",
       "    }\n",
       "\n",
       "    .dataframe thead th {\n",
       "        text-align: right;\n",
       "    }\n",
       "</style>\n",
       "<table border=\"1\" class=\"dataframe\">\n",
       "  <thead>\n",
       "    <tr style=\"text-align: right;\">\n",
       "      <th></th>\n",
       "      <th>text_feature</th>\n",
       "      <th>sold_price</th>\n",
       "      <th>unigrams</th>\n",
       "      <th>bigrams</th>\n",
       "      <th>trigrams</th>\n",
       "    </tr>\n",
       "  </thead>\n",
       "  <tbody>\n",
       "    <tr>\n",
       "      <th>0</th>\n",
       "      <td>item_name</td>\n",
       "      <td>60</td>\n",
       "      <td>[dangerous, warning, ifsixwasnine, long, sleeve]</td>\n",
       "      <td>[dangerous warning, warning ifsixwasnine, ifsi...</td>\n",
       "      <td>[dangerous warning ifsixwasnine, warning ifsix...</td>\n",
       "    </tr>\n",
       "    <tr>\n",
       "      <th>1</th>\n",
       "      <td>item_name</td>\n",
       "      <td>327</td>\n",
       "      <td>[black, rugged, twill, original, briefcase, new]</td>\n",
       "      <td>[black rugged, rugged twill, twill original, o...</td>\n",
       "      <td>[black rugged twill, rugged twill original, tw...</td>\n",
       "    </tr>\n",
       "    <tr>\n",
       "      <th>2</th>\n",
       "      <td>item_name</td>\n",
       "      <td>135</td>\n",
       "      <td>[bape, wgm, garment, dyed]</td>\n",
       "      <td>[bape wgm, wgm garment, garment dyed]</td>\n",
       "      <td>[bape wgm garment, wgm garment dyed]</td>\n",
       "    </tr>\n",
       "    <tr>\n",
       "      <th>3</th>\n",
       "      <td>item_name</td>\n",
       "      <td>56</td>\n",
       "      <td>[tommy, hilfiger, embroidery, logo, colour, bl...</td>\n",
       "      <td>[tommy hilfiger, hilfiger embroidery, embroide...</td>\n",
       "      <td>[tommy hilfiger embroidery, hilfiger embroider...</td>\n",
       "    </tr>\n",
       "    <tr>\n",
       "      <th>4</th>\n",
       "      <td>item_name</td>\n",
       "      <td>60</td>\n",
       "      <td>[minted, new, york, runclub, hoodie]</td>\n",
       "      <td>[minted new, new york, york runclub, runclub h...</td>\n",
       "      <td>[minted new york, new york runclub, york runcl...</td>\n",
       "    </tr>\n",
       "  </tbody>\n",
       "</table>\n",
       "</div>"
      ]
     },
     "execution_count": 19,
     "metadata": {},
     "output_type": "execute_result"
    }
   ],
   "execution_count": 19
  },
  {
   "metadata": {
    "ExecuteTime": {
     "end_time": "2024-09-05T17:43:37.378125Z",
     "start_time": "2024-09-05T17:43:37.372964Z"
    }
   },
   "cell_type": "code",
   "source": [
    "# Filter n-grams for the top 25% and bottom 25% sold price listings\n",
    "df_ngrams = df_ngrams[(df_ngrams.sold_price > q_high) | (df_ngrams.sold_price < q_low)]"
   ],
   "id": "12e9bdbc2ea10b39",
   "outputs": [],
   "execution_count": 20
  },
  {
   "metadata": {
    "ExecuteTime": {
     "end_time": "2024-09-05T17:43:37.490333Z",
     "start_time": "2024-09-05T17:43:37.379031Z"
    }
   },
   "cell_type": "code",
   "source": [
    "# Reshape n-grams data for easier visualization\n",
    "df_ngrams_long = df_ngrams.melt(\n",
    "    value_vars=n_grams,\n",
    "    id_vars=[\"text_feature\", \"sold_price\"],\n",
    "    var_name=\"ngram\",\n",
    ").explode(\"value\")"
   ],
   "id": "17e432b34f55cf5e",
   "outputs": [],
   "execution_count": 21
  },
  {
   "metadata": {
    "ExecuteTime": {
     "end_time": "2024-09-05T17:43:37.595199Z",
     "start_time": "2024-09-05T17:43:37.491785Z"
    }
   },
   "cell_type": "code",
   "source": [
    "# Drop any rows with missing values\n",
    "df_ngrams_long.dropna(inplace=True)"
   ],
   "id": "df580bc04c202b15",
   "outputs": [],
   "execution_count": 22
  },
  {
   "metadata": {
    "ExecuteTime": {
     "end_time": "2024-09-05T17:43:37.601729Z",
     "start_time": "2024-09-05T17:43:37.596380Z"
    }
   },
   "cell_type": "code",
   "source": [
    "# View the reshaped n-grams data\n",
    "df_ngrams_long.head()"
   ],
   "id": "59a24a42eb2676db",
   "outputs": [
    {
     "data": {
      "text/plain": [
       "  text_feature  sold_price     ngram      value\n",
       "0    item_name         327  unigrams      black\n",
       "0    item_name         327  unigrams     rugged\n",
       "0    item_name         327  unigrams      twill\n",
       "0    item_name         327  unigrams   original\n",
       "0    item_name         327  unigrams  briefcase"
      ],
      "text/html": [
       "<div>\n",
       "<style scoped>\n",
       "    .dataframe tbody tr th:only-of-type {\n",
       "        vertical-align: middle;\n",
       "    }\n",
       "\n",
       "    .dataframe tbody tr th {\n",
       "        vertical-align: top;\n",
       "    }\n",
       "\n",
       "    .dataframe thead th {\n",
       "        text-align: right;\n",
       "    }\n",
       "</style>\n",
       "<table border=\"1\" class=\"dataframe\">\n",
       "  <thead>\n",
       "    <tr style=\"text-align: right;\">\n",
       "      <th></th>\n",
       "      <th>text_feature</th>\n",
       "      <th>sold_price</th>\n",
       "      <th>ngram</th>\n",
       "      <th>value</th>\n",
       "    </tr>\n",
       "  </thead>\n",
       "  <tbody>\n",
       "    <tr>\n",
       "      <th>0</th>\n",
       "      <td>item_name</td>\n",
       "      <td>327</td>\n",
       "      <td>unigrams</td>\n",
       "      <td>black</td>\n",
       "    </tr>\n",
       "    <tr>\n",
       "      <th>0</th>\n",
       "      <td>item_name</td>\n",
       "      <td>327</td>\n",
       "      <td>unigrams</td>\n",
       "      <td>rugged</td>\n",
       "    </tr>\n",
       "    <tr>\n",
       "      <th>0</th>\n",
       "      <td>item_name</td>\n",
       "      <td>327</td>\n",
       "      <td>unigrams</td>\n",
       "      <td>twill</td>\n",
       "    </tr>\n",
       "    <tr>\n",
       "      <th>0</th>\n",
       "      <td>item_name</td>\n",
       "      <td>327</td>\n",
       "      <td>unigrams</td>\n",
       "      <td>original</td>\n",
       "    </tr>\n",
       "    <tr>\n",
       "      <th>0</th>\n",
       "      <td>item_name</td>\n",
       "      <td>327</td>\n",
       "      <td>unigrams</td>\n",
       "      <td>briefcase</td>\n",
       "    </tr>\n",
       "  </tbody>\n",
       "</table>\n",
       "</div>"
      ]
     },
     "execution_count": 23,
     "metadata": {},
     "output_type": "execute_result"
    }
   ],
   "execution_count": 23
  },
  {
   "metadata": {
    "ExecuteTime": {
     "end_time": "2024-09-05T17:43:38.869176Z",
     "start_time": "2024-09-05T17:43:37.603383Z"
    }
   },
   "cell_type": "code",
   "source": [
    "# Save the preprocessed n-grams data to a CSV file\n",
    "df_ngrams_long.to_csv(\n",
    "    \"../data/preprocessed/preprocessed_text_ngrams_10k.csv\", index=False\n",
    ")"
   ],
   "id": "1d56a12770cbf9df",
   "outputs": [],
   "execution_count": 24
  },
  {
   "metadata": {},
   "cell_type": "markdown",
   "source": "## Sentiment Analysis",
   "id": "53a334043adf88bb"
  },
  {
   "metadata": {
    "ExecuteTime": {
     "end_time": "2024-09-05T17:43:38.911425Z",
     "start_time": "2024-09-05T17:43:38.873251Z"
    }
   },
   "cell_type": "code",
   "source": [
    "# Initialize the SentimentIntensityAnalyzer\n",
    "sid = SentimentIntensityAnalyzer()"
   ],
   "id": "4ffd0c3c28b731bf",
   "outputs": [],
   "execution_count": 25
  },
  {
   "metadata": {
    "ExecuteTime": {
     "end_time": "2024-09-05T17:43:38.921260Z",
     "start_time": "2024-09-05T17:43:38.913052Z"
    }
   },
   "cell_type": "code",
   "source": [
    "# Function for calculating sentiment score using VADER\n",
    "\n",
    "\n",
    "def analyze_sentiment(description):\n",
    "    sentiment_scores = sid.polarity_scores(description)\n",
    "    return sentiment_scores[\"compound\"]"
   ],
   "id": "d8ab1ed26789f2f9",
   "outputs": [],
   "execution_count": 26
  },
  {
   "metadata": {
    "ExecuteTime": {
     "end_time": "2024-09-05T17:43:43.855265Z",
     "start_time": "2024-09-05T17:43:38.926540Z"
    }
   },
   "cell_type": "code",
   "source": [
    "# Filter data for the description text feature only\n",
    "df_sentiment = df_long[df_long.text_feature == \"description\"][\n",
    "    [\"cleaned_text\", \"sold_price\"]\n",
    "]\n",
    "\n",
    "# Apply sentiment analysis to the cleaned descriptions\n",
    "df_sentiment[\"description_sentiment\"] = df_sentiment[\"cleaned_text\"].apply(\n",
    "    analyze_sentiment\n",
    ")\n",
    "\n",
    "# Drop the cleaned text column (no longer needed)\n",
    "df_sentiment.drop(columns=[\"cleaned_text\"], inplace=True)"
   ],
   "id": "6bb2153d0f672c5e",
   "outputs": [],
   "execution_count": 27
  },
  {
   "metadata": {
    "ExecuteTime": {
     "end_time": "2024-09-05T17:43:43.872072Z",
     "start_time": "2024-09-05T17:43:43.864498Z"
    }
   },
   "cell_type": "code",
   "source": [
    "# View the sentiment analysis results\n",
    "df_sentiment.head()"
   ],
   "id": "eb79584d8ff130e",
   "outputs": [
    {
     "data": {
      "text/plain": [
       "       sold_price  description_sentiment\n",
       "10000          60                 0.6124\n",
       "10001         327                 0.0000\n",
       "10002         135                 0.0000\n",
       "10003          56                 0.7579\n",
       "10004          60                -0.2960"
      ],
      "text/html": [
       "<div>\n",
       "<style scoped>\n",
       "    .dataframe tbody tr th:only-of-type {\n",
       "        vertical-align: middle;\n",
       "    }\n",
       "\n",
       "    .dataframe tbody tr th {\n",
       "        vertical-align: top;\n",
       "    }\n",
       "\n",
       "    .dataframe thead th {\n",
       "        text-align: right;\n",
       "    }\n",
       "</style>\n",
       "<table border=\"1\" class=\"dataframe\">\n",
       "  <thead>\n",
       "    <tr style=\"text-align: right;\">\n",
       "      <th></th>\n",
       "      <th>sold_price</th>\n",
       "      <th>description_sentiment</th>\n",
       "    </tr>\n",
       "  </thead>\n",
       "  <tbody>\n",
       "    <tr>\n",
       "      <th>10000</th>\n",
       "      <td>60</td>\n",
       "      <td>0.6124</td>\n",
       "    </tr>\n",
       "    <tr>\n",
       "      <th>10001</th>\n",
       "      <td>327</td>\n",
       "      <td>0.0000</td>\n",
       "    </tr>\n",
       "    <tr>\n",
       "      <th>10002</th>\n",
       "      <td>135</td>\n",
       "      <td>0.0000</td>\n",
       "    </tr>\n",
       "    <tr>\n",
       "      <th>10003</th>\n",
       "      <td>56</td>\n",
       "      <td>0.7579</td>\n",
       "    </tr>\n",
       "    <tr>\n",
       "      <th>10004</th>\n",
       "      <td>60</td>\n",
       "      <td>-0.2960</td>\n",
       "    </tr>\n",
       "  </tbody>\n",
       "</table>\n",
       "</div>"
      ]
     },
     "execution_count": 28,
     "metadata": {},
     "output_type": "execute_result"
    }
   ],
   "execution_count": 28
  },
  {
   "metadata": {
    "ExecuteTime": {
     "end_time": "2024-09-05T17:43:43.891845Z",
     "start_time": "2024-09-05T17:43:43.873561Z"
    }
   },
   "cell_type": "code",
   "source": [
    "# Save the preprocessed sentiment data to a CSV file\n",
    "df_sentiment.to_csv(\n",
    "    \"../data/preprocessed/preprocessed_text_sentiment_10k.csv\", index=False\n",
    ")"
   ],
   "id": "a2172f6abac4b64",
   "outputs": [],
   "execution_count": 29
  },
  {
   "metadata": {
    "ExecuteTime": {
     "end_time": "2024-09-05T17:43:43.894921Z",
     "start_time": "2024-09-05T17:43:43.893142Z"
    }
   },
   "cell_type": "code",
   "source": "",
   "id": "d6a4b047d0381713",
   "outputs": [],
   "execution_count": 29
  }
 ],
 "metadata": {
  "kernelspec": {
   "display_name": "Python 3",
   "language": "python",
   "name": "python3"
  },
  "language_info": {
   "codemirror_mode": {
    "name": "ipython",
    "version": 2
   },
   "file_extension": ".py",
   "mimetype": "text/x-python",
   "name": "python",
   "nbconvert_exporter": "python",
   "pygments_lexer": "ipython2",
   "version": "2.7.6"
  }
 },
 "nbformat": 4,
 "nbformat_minor": 5
}
