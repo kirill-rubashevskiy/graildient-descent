{
 "cells": [
  {
   "metadata": {},
   "cell_type": "markdown",
   "source": "# Data Preparation for ML Experiments",
   "id": "a3b6478fb5ddcbc8"
  },
  {
   "cell_type": "code",
   "id": "initial_id",
   "metadata": {
    "collapsed": true,
    "ExecuteTime": {
     "end_time": "2024-10-10T14:43:40.759678Z",
     "start_time": "2024-10-10T14:43:38.947183Z"
    }
   },
   "source": [
    "import os\n",
    "\n",
    "from dotenv import load_dotenv\n",
    "from sklearn.model_selection import train_test_split\n",
    "\n",
    "from graildient_descent.preprocessing import preprocess_text\n",
    "from graildient_descent.utils import load_data, set_random_seed"
   ],
   "outputs": [],
   "execution_count": 1
  },
  {
   "metadata": {
    "ExecuteTime": {
     "end_time": "2024-10-10T14:43:40.765074Z",
     "start_time": "2024-10-10T14:43:40.761172Z"
    }
   },
   "cell_type": "code",
   "source": [
    "load_dotenv()\n",
    "random_state = set_random_seed()"
   ],
   "id": "5dbb655471761313",
   "outputs": [],
   "execution_count": 2
  },
  {
   "metadata": {
    "ExecuteTime": {
     "end_time": "2024-10-10T14:43:40.768254Z",
     "start_time": "2024-10-10T14:43:40.766180Z"
    }
   },
   "cell_type": "code",
   "source": [
    "N_ROWS = 25000\n",
    "TRAIN_SIZE = 0.6\n",
    "EVAL_SIZE = 0.2"
   ],
   "id": "82cca94231443969",
   "outputs": [],
   "execution_count": 3
  },
  {
   "metadata": {
    "ExecuteTime": {
     "end_time": "2024-10-10T14:43:43.488498Z",
     "start_time": "2024-10-10T14:43:40.769362Z"
    }
   },
   "cell_type": "code",
   "source": [
    "# Load data from S3\n",
    "df = load_data(\n",
    "    filename=\"data/raw/sold_listings.csv\", from_s3=True, bucket_name=\"grailed\"\n",
    ")"
   ],
   "id": "a8170487267dcf7f",
   "outputs": [],
   "execution_count": 4
  },
  {
   "metadata": {
    "ExecuteTime": {
     "end_time": "2024-10-10T14:43:43.561398Z",
     "start_time": "2024-10-10T14:43:43.490569Z"
    }
   },
   "cell_type": "code",
   "source": [
    "# Remove duplicates and select the first 25k rows\n",
    "df.drop_duplicates(inplace=True)\n",
    "df = df.head(N_ROWS)\n",
    "\n",
    "assert len(df) == N_ROWS"
   ],
   "id": "9920732c7f45114c",
   "outputs": [],
   "execution_count": 5
  },
  {
   "metadata": {
    "ExecuteTime": {
     "end_time": "2024-10-10T14:44:05.596029Z",
     "start_time": "2024-10-10T14:43:43.562313Z"
    }
   },
   "cell_type": "code",
   "source": [
    "# Preprocess text columns\n",
    "df[\"item_name\"] = df[\"item_name\"].apply(preprocess_text)\n",
    "df[\"description\"] = df[\"description\"].apply(preprocess_text)\n",
    "df[\"hashtags\"] = df[\"hashtags\"].apply(preprocess_text)"
   ],
   "id": "7b3032e72f428a97",
   "outputs": [],
   "execution_count": 6
  },
  {
   "metadata": {
    "ExecuteTime": {
     "end_time": "2024-10-10T14:44:05.608571Z",
     "start_time": "2024-10-10T14:44:05.597210Z"
    }
   },
   "cell_type": "code",
   "source": [
    "# Split data into train, eval, and test sets (60/20/20)\n",
    "train_data, temp_data = train_test_split(\n",
    "    df, train_size=TRAIN_SIZE, random_state=random_state\n",
    ")\n",
    "eval_size_adjusted = EVAL_SIZE / (1 - TRAIN_SIZE)\n",
    "eval_data, test_data = train_test_split(\n",
    "    temp_data, train_size=eval_size_adjusted, random_state=random_state\n",
    ")"
   ],
   "id": "57d44d56b253317a",
   "outputs": [],
   "execution_count": 7
  },
  {
   "metadata": {
    "ExecuteTime": {
     "end_time": "2024-10-10T14:44:05.870757Z",
     "start_time": "2024-10-10T14:44:05.609839Z"
    }
   },
   "cell_type": "code",
   "source": [
    "# Save datasets locally\n",
    "save_dir = \"../data/splits/25k\"\n",
    "\n",
    "train_data.to_csv(os.path.join(save_dir, \"train_25k.csv\"), index=False)\n",
    "eval_data.to_csv(os.path.join(save_dir, \"eval_25k.csv\"), index=False)\n",
    "test_data.to_csv(os.path.join(save_dir, \"test_25k.csv\"), index=False)"
   ],
   "id": "7643bb04231c069f",
   "outputs": [],
   "execution_count": 8
  }
 ],
 "metadata": {
  "kernelspec": {
   "display_name": "Python 3",
   "language": "python",
   "name": "python3"
  },
  "language_info": {
   "codemirror_mode": {
    "name": "ipython",
    "version": 2
   },
   "file_extension": ".py",
   "mimetype": "text/x-python",
   "name": "python",
   "nbconvert_exporter": "python",
   "pygments_lexer": "ipython2",
   "version": "2.7.6"
  }
 },
 "nbformat": 4,
 "nbformat_minor": 5
}
